{
 "cells": [
  {
   "cell_type": "markdown",
   "source": [
    "### Dashboard - Comparar precios de supermercados chilenos\n",
    "\n",
    "Utilizando Python y diferentes librerias se obtendrán los datos de los diferentes supermercados Jumbo, Santa Isabel, Lider y Unimarc. Estos datos luego serán cargados en Github y en Power BI con el fín de crear un Dashboard que muestre los productos de estos supermercados, con sus respectivos precios e información."
   ],
   "metadata": {
    "collapsed": false
   },
   "id": "3f0dd01f5a56291c"
  },
  {
   "cell_type": "markdown",
   "source": [
    "#### Definición de los scrapers"
   ],
   "metadata": {
    "collapsed": false
   },
   "id": "850d212913a2b2b8"
  },
  {
   "cell_type": "code",
   "outputs": [],
   "source": [
    "from selenium import webdriver\n",
    "from selenium.webdriver.chrome.service import Service\n",
    "from selenium.webdriver.common.by import By\n",
    "from bs4 import BeautifulSoup\n",
    "from random import randrange\n",
    "from datetime import datetime\n",
    "import undetected_chromedriver as uc\n",
    "import urllib.parse\n",
    "import time\n",
    "import re\n",
    "\n",
    "# Función para transformar texto a formato url\n",
    "def transformar(texto):\n",
    "    return urllib.parse.quote(texto)\n",
    "\n",
    "# Función para obtener los datos del supermercado Jumbo\n",
    "def scrap_jumbo(busqueda,tabla):\n",
    "    \n",
    "    # Configuración de las opciones, estas dependen de la página\n",
    "    options = webdriver.ChromeOptions()\n",
    "    options.add_argument('--headless')\n",
    "    \n",
    "    # Fecha actual\n",
    "    fecha = datetime.now().date()\n",
    "    \n",
    "    # Tiempo de espera aleatorio entre 5 y 10 para evitar saturar la página\n",
    "    tiempo = randrange(5,10)\n",
    "\n",
    "    driver = webdriver.Chrome(options=options)\n",
    "    textobusqueda = transformar(busqueda)\n",
    "    url = f'https://www.jumbo.cl/busqueda?ft={textobusqueda}'\n",
    "    \n",
    "    driver.get(url)\n",
    "    time.sleep(tiempo)\n",
    "    \n",
    "    # Obtiene los datos de la página\n",
    "    html = driver.page_source\n",
    "    soup = BeautifulSoup(html, 'html.parser')\n",
    "    productos = soup.find_all('div', class_='product-card')\n",
    "    \n",
    "    for producto in productos:\n",
    "    \n",
    "        marca = producto.find('a', class_='product-card-brand')\n",
    "        marca_text = marca.get_text(strip=True).title() if marca else 'Sin marca'\n",
    "\n",
    "        nombre = producto.find('a', class_='product-card-name')\n",
    "        nombre_text = nombre.get_text(strip=True).title() if nombre else 'Sin nombre'\n",
    "\n",
    "        precio = producto.find('span', class_='prices-main-price')\n",
    "        precio_text = precio.get_text(strip=True) if precio else '0'\n",
    "        precio_cleaned = int(precio_text.replace('$', '').replace('.', ''))\n",
    "\n",
    "        link = producto.find('a', class_='product-card-image-link')\n",
    "        link_text = link.get('href') if link else 'Sin enlace'\n",
    "\n",
    "        fila = { 'Supermercado': 'Jumbo',\n",
    "                 'Marca': marca_text,\n",
    "                 'Producto': nombre_text,\n",
    "                 'Precio': precio_cleaned,\n",
    "                 'Categoria': busqueda,\n",
    "                 'Enlace': f'https://www.jumbo.cl{link_text}',\n",
    "                 'Fecha': fecha,\n",
    "                 'porMayor': ''\n",
    "                 }\n",
    "        \n",
    "        tabla.loc[len(tabla)] = fila\n",
    "        \n",
    "    print(f'Jumbo - Scrap realizado {busqueda}')\n",
    "        \n",
    "    driver.quit()\n",
    "\n",
    "# Otras funciones...\n",
    "\n",
    "def scrap_santai(busqueda,tabla):\n",
    "    \n",
    "    options = webdriver.ChromeOptions()\n",
    "    options.add_argument('--headless')\n",
    "    \n",
    "    fecha = datetime.now().date()\n",
    "    tiempo = randrange(5,10)\n",
    "    driver = webdriver.Chrome(options=options)\n",
    "    textobusqueda = transformar(busqueda)\n",
    "    url = f'https://www.santaisabel.cl/busqueda?ft={textobusqueda}'\n",
    "    \n",
    "    driver.get(url)\n",
    "    time.sleep(tiempo)\n",
    "    html = driver.page_source\n",
    "    soup = BeautifulSoup(html, 'html.parser')\n",
    "    productos = soup.find_all('div', class_='product-card')\n",
    "    \n",
    "    for producto in productos:\n",
    "    \n",
    "        marca = producto.find('a', class_='product-card-brand')\n",
    "        marca_text = marca.get_text(strip=True).title() if marca else 'Sin marca'\n",
    "\n",
    "        nombre = producto.find('a', class_='product-card-name')\n",
    "        nombre_text = nombre.get_text(strip=True).title() if nombre else 'Sin nombre'\n",
    "\n",
    "        precio = producto.find('span', class_='prices-main-price')\n",
    "        precio_text = precio.get_text(strip=True) if precio else '0'\n",
    "        precio_cleaned = int(precio_text.replace('$', '').replace('.', ''))\n",
    "\n",
    "        link = producto.find('a', class_='product-card-image-link')\n",
    "        link_text = link.get('href') if link else 'Sin enlace'\n",
    "\n",
    "        fila = { 'Supermercado': 'Santa Isabel',\n",
    "                 'Marca': marca_text,\n",
    "                 'Producto': nombre_text,\n",
    "                 'Precio': precio_cleaned,\n",
    "                 'Categoria': busqueda,\n",
    "                 'Enlace': f'https://www.santaisabel.cl{link_text}',\n",
    "                 'Fecha': fecha,\n",
    "                 'porMayor': ''\n",
    "                 }\n",
    "        \n",
    "        tabla.loc[len(tabla)] = fila\n",
    "        \n",
    "    print(f'Santa Isabel - Scrap realizado {busqueda}')\n",
    "    \n",
    "    driver.quit()\n",
    "\n",
    "def scrap_lider(busqueda,tabla):\n",
    "    \n",
    "    options = uc.ChromeOptions()\n",
    "    options.add_argument(\"user-agent=Mozilla/5.0 (Windows NT 10.0; Win64; x64) AppleWebKit/537.36 (KHTML, like Gecko) Chrome/91.0.4472.124 Safari/537.36\")\n",
    "    \n",
    "    fecha = datetime.now().date()\n",
    "    tiempo = randrange(12,24)\n",
    "    driver = uc.Chrome(options=options)\n",
    "    textobusqueda = transformar(busqueda)\n",
    "    url = f'https://www.lider.cl/supermercado/search?query={textobusqueda}'\n",
    "    \n",
    "    driver.get(url)\n",
    "    time.sleep(tiempo)\n",
    "    driver.execute_script(\"Object.defineProperty(navigator, 'webdriver', {get: () => undefined})\")\n",
    "    html = driver.page_source\n",
    "    soup = BeautifulSoup(html, 'html.parser')\n",
    "    productos = soup.find_all('li', class_='ais-Hits-item')\n",
    "    \n",
    "    for producto in productos:\n",
    "    \n",
    "        nombre = producto.find('h2', class_='product-description')\n",
    "        \n",
    "        if nombre:\n",
    "            marca_span = nombre.find('span', style='font-weight: bold; color: rgb(0, 0, 0);')\n",
    "            marca_text = marca_span.get_text(strip=True).title() if marca_span else 'Sin marca'\n",
    "            \n",
    "            nombre_span = marca_span.find_next_sibling('span') if marca_span else None\n",
    "            nombre_text = nombre_span.get_text(strip=True).title() if nombre_span else 'Sin nombre'\n",
    "        else:\n",
    "            marca_text = 'Sin marca'\n",
    "            nombre_text = 'Sin nombre'\n",
    "\n",
    "        precio = producto.find('div', class_='product-card__sale-price')\n",
    "        precio_text = precio.get_text(strip=True) if precio else '0'\n",
    "\n",
    "        match = re.match(r'(\\d+)\\s*x\\s*\\$([\\d.]+)', precio_text)\n",
    "        if match:\n",
    "            cantidad = int(match.group(1))\n",
    "            precio_total = int(match.group(2).replace('.', ''))\n",
    "            precio_cleaned = precio_total // cantidad\n",
    "            por_mayor_text = precio_text\n",
    "            \n",
    "        else:\n",
    "            precio_cleaned = int(precio_text.replace('$', '').replace('.', ''))\n",
    "            por_mayor_text = ''\n",
    "\n",
    "        link = producto.find('a', {'data-testid': 'product-card-nav-test-id'})\n",
    "        link_text = link.get('href') if link else 'Sin enlace'\n",
    "\n",
    "        fila = { 'Supermercado': 'Lider',\n",
    "                 'Marca': marca_text,\n",
    "                 'Producto': nombre_text,\n",
    "                 'Precio': precio_cleaned,\n",
    "                 'Categoria': busqueda,\n",
    "                 'Enlace': f'https://www.lider.cl{link_text}',\n",
    "                 'Fecha': fecha,\n",
    "                 'porMayor': por_mayor_text\n",
    "                 }\n",
    "        \n",
    "        tabla.loc[len(tabla)] = fila\n",
    "        \n",
    "        time.sleep(randrange(2,5))\n",
    "        \n",
    "    print(f'Lider - Scrap realizado {busqueda}')\n",
    "        \n",
    "    driver.quit()\n",
    "    \n",
    "def scrap_unimarc(busqueda,tabla):\n",
    "    \n",
    "    options = webdriver.ChromeOptions()\n",
    "    options.add_argument(\"user-agent=Mozilla/5.0 (Windows NT 10.0; Win64; x64) AppleWebKit/537.36 (KHTML, like Gecko) Chrome/91.0.4472.124 Safari/537.36\")\n",
    "    options.add_argument(\"--disable-blink-features=AutomationControlled\")\n",
    "    options.add_experimental_option(\"excludeSwitches\", [\"enable-automation\"])\n",
    "    options.add_experimental_option('useAutomationExtension', False)\n",
    "    \n",
    "    fecha = datetime.now().date()\n",
    "    tiempo = randrange(5,10)\n",
    "    driver = webdriver.Chrome(options=options)\n",
    "    textobusqueda = busqueda.replace(' ', '-')\n",
    "    url = f'https://www.unimarc.cl/search?q={textobusqueda}'\n",
    "    \n",
    "    driver.get(url)\n",
    "    time.sleep(tiempo)\n",
    "    html = driver.page_source\n",
    "    soup = BeautifulSoup(html, 'html.parser')\n",
    "    contenedores = soup.find_all('div', class_='baseContainer_container__TSgMX ab__shelves abc__shelves baseContainer_justify-start___sjrG baseContainer_align-start__6PKCY baseContainer_absolute-default--topLeft__lN1In')\n",
    "    \n",
    "    for contenedor in contenedores:\n",
    "    \n",
    "        producto = contenedor.find('div', class_='baseContainer_container__TSgMX baseContainer_justify-start___sjrG baseContainer_align-start__6PKCY baseContainer_flex-direction--column__iiccg baseContainer_absolute-default--topLeft__lN1In')\n",
    "    \n",
    "        marca = producto.find('p', class_='Shelf_brandText__sGfsS')\n",
    "        marca_text = marca.get_text(strip=True).title() if marca else 'Sin marca'\n",
    "\n",
    "        nombre = producto.find('p', class_='Shelf_nameProduct__CXI5M')\n",
    "        nombre_text = nombre.get_text(strip=True).title() if nombre else 'Sin nombre'\n",
    "\n",
    "        precio = producto.find('p', class_='Text_text__cB7NM Text_text--left__1v2Xw Text_text--flex__F7yuI Text_text--medium__rIScp Text_text--lg__GZWsa Text_text--primary__OoK0C Text_text__cursor--auto__cMaN1 Text_text--none__zez2n')\n",
    "        precio_text = precio.get_text(strip=True) if precio else '0'\n",
    "        \n",
    "        match = re.match(r'(\\d+)\\s*x\\s*\\$([\\d.]+)', precio_text)\n",
    "        if match:\n",
    "            cantidad = int(match.group(1))\n",
    "            precio_total = int(match.group(2).replace('.', ''))\n",
    "            precio_cleaned = precio_total // cantidad\n",
    "            por_mayor_text = precio_text\n",
    "            \n",
    "        else:\n",
    "            precio_cleaned = int(precio_text.replace('$', '').replace('.', ''))\n",
    "            por_mayor_text = ''\n",
    "\n",
    "        link = producto.find('a', class_='Link_link___5dmQ')\n",
    "        link_text = link.get('href') if link else 'Sin enlace'\n",
    "\n",
    "        fila = { 'Supermercado': 'Unimarc',\n",
    "                 'Marca': marca_text,\n",
    "                 'Producto': nombre_text,\n",
    "                 'Precio': precio_cleaned,\n",
    "                 'Categoria': busqueda,\n",
    "                 'Enlace': f'https://www.unimarc.cl{link_text}',\n",
    "                 'Fecha': fecha,\n",
    "                 'porMayor': por_mayor_text\n",
    "                 }\n",
    "        \n",
    "        tabla.loc[len(tabla)] = fila\n",
    "        \n",
    "    print(f'Unimarc - Scrap realizado {busqueda}')\n",
    "        \n",
    "    driver.quit()"
   ],
   "metadata": {
    "collapsed": false,
    "ExecuteTime": {
     "end_time": "2024-10-06T03:48:31.572053Z",
     "start_time": "2024-10-06T03:48:30.784432Z"
    }
   },
   "id": "622f5f7c22568618",
   "execution_count": 6
  },
  {
   "cell_type": "markdown",
   "source": [
    "#### Obtención de los datos"
   ],
   "metadata": {
    "collapsed": false
   },
   "id": "1bdf5db76e83f0cd"
  },
  {
   "cell_type": "code",
   "outputs": [
    {
     "data": {
      "text/plain": "     Supermercado    Marca                                           Producto  \\\nId                                                                              \n0           Lider  Soprole                       Leche Entera Natural, 200 Ml   \n1           Lider    Costa                  Galletas Frac Bi Capuccino, 110 G   \n2           Lider    Costa                        Galleta Frac Clásica, 110 G   \n3           Lider    Costa                      Galleta Frac Chocolate, 110 G   \n4           Lider    Costa                    Galleta Frac Bi Frutilla, 110 G   \n..            ...      ...                                                ...   \n410       Unimarc  Soprole     Pack Leche Entera Natural Soprole 12 Un De 1 L   \n411  Santa Isabel     Nido                    Leche Polvo Nido Entera 1.35 Kg   \n412       Unimarc    Colun  Pack Leche Entera Natural Colun, Sin Tapa 12 U...   \n413         Jumbo    Colun     Pack 12 Un. Leche Colun Entera Sin Lactosa 1 L   \n414         Jumbo     Nido                     Leche Polvo Nido Entera 1.9 Kg   \n\n     Precio     Categoria                                             Enlace  \\\nId                                                                             \n0       470  Leche Entera  https://www.lider.cl/supermercado/product/sku/...   \n1       483          Frac  https://www.lider.cl/supermercado/product/sku/...   \n2       483          Frac  https://www.lider.cl/supermercado/product/sku/...   \n3       483          Frac  https://www.lider.cl/supermercado/product/sku/...   \n4       483          Frac  https://www.lider.cl/supermercado/product/sku/...   \n..      ...           ...                                                ...   \n410   14440  Leche Entera  https://www.unimarc.cl/product/leche-entera-na...   \n411   14490  Leche Entera  https://www.santaisabel.cl/leche-en-polvo-ente...   \n412   15350  Leche Entera  https://www.unimarc.cl/product/leche-entera-na...   \n413   16668  Leche Entera  https://www.jumbo.cl/pack-leche-entera-sin-lac...   \n414   19350  Leche Entera  https://www.jumbo.cl/leche-nido-entera-1900g-1...   \n\n          Fecha porMayor  \nId                        \n0    2024-10-01      NaN  \n1    2024-10-01      NaN  \n2    2024-10-01      NaN  \n3    2024-10-01      NaN  \n4    2024-10-01      NaN  \n..          ...      ...  \n410  2024-10-01      NaN  \n411  2024-10-01      NaN  \n412  2024-10-01      NaN  \n413  2024-10-01      NaN  \n414  2024-10-01      NaN  \n\n[415 rows x 8 columns]",
      "text/html": "<div>\n<style scoped>\n    .dataframe tbody tr th:only-of-type {\n        vertical-align: middle;\n    }\n\n    .dataframe tbody tr th {\n        vertical-align: top;\n    }\n\n    .dataframe thead th {\n        text-align: right;\n    }\n</style>\n<table border=\"1\" class=\"dataframe\">\n  <thead>\n    <tr style=\"text-align: right;\">\n      <th></th>\n      <th>Supermercado</th>\n      <th>Marca</th>\n      <th>Producto</th>\n      <th>Precio</th>\n      <th>Categoria</th>\n      <th>Enlace</th>\n      <th>Fecha</th>\n      <th>porMayor</th>\n    </tr>\n    <tr>\n      <th>Id</th>\n      <th></th>\n      <th></th>\n      <th></th>\n      <th></th>\n      <th></th>\n      <th></th>\n      <th></th>\n      <th></th>\n    </tr>\n  </thead>\n  <tbody>\n    <tr>\n      <th>0</th>\n      <td>Lider</td>\n      <td>Soprole</td>\n      <td>Leche Entera Natural, 200 Ml</td>\n      <td>470</td>\n      <td>Leche Entera</td>\n      <td>https://www.lider.cl/supermercado/product/sku/...</td>\n      <td>2024-10-01</td>\n      <td>NaN</td>\n    </tr>\n    <tr>\n      <th>1</th>\n      <td>Lider</td>\n      <td>Costa</td>\n      <td>Galletas Frac Bi Capuccino, 110 G</td>\n      <td>483</td>\n      <td>Frac</td>\n      <td>https://www.lider.cl/supermercado/product/sku/...</td>\n      <td>2024-10-01</td>\n      <td>NaN</td>\n    </tr>\n    <tr>\n      <th>2</th>\n      <td>Lider</td>\n      <td>Costa</td>\n      <td>Galleta Frac Clásica, 110 G</td>\n      <td>483</td>\n      <td>Frac</td>\n      <td>https://www.lider.cl/supermercado/product/sku/...</td>\n      <td>2024-10-01</td>\n      <td>NaN</td>\n    </tr>\n    <tr>\n      <th>3</th>\n      <td>Lider</td>\n      <td>Costa</td>\n      <td>Galleta Frac Chocolate, 110 G</td>\n      <td>483</td>\n      <td>Frac</td>\n      <td>https://www.lider.cl/supermercado/product/sku/...</td>\n      <td>2024-10-01</td>\n      <td>NaN</td>\n    </tr>\n    <tr>\n      <th>4</th>\n      <td>Lider</td>\n      <td>Costa</td>\n      <td>Galleta Frac Bi Frutilla, 110 G</td>\n      <td>483</td>\n      <td>Frac</td>\n      <td>https://www.lider.cl/supermercado/product/sku/...</td>\n      <td>2024-10-01</td>\n      <td>NaN</td>\n    </tr>\n    <tr>\n      <th>...</th>\n      <td>...</td>\n      <td>...</td>\n      <td>...</td>\n      <td>...</td>\n      <td>...</td>\n      <td>...</td>\n      <td>...</td>\n      <td>...</td>\n    </tr>\n    <tr>\n      <th>410</th>\n      <td>Unimarc</td>\n      <td>Soprole</td>\n      <td>Pack Leche Entera Natural Soprole 12 Un De 1 L</td>\n      <td>14440</td>\n      <td>Leche Entera</td>\n      <td>https://www.unimarc.cl/product/leche-entera-na...</td>\n      <td>2024-10-01</td>\n      <td>NaN</td>\n    </tr>\n    <tr>\n      <th>411</th>\n      <td>Santa Isabel</td>\n      <td>Nido</td>\n      <td>Leche Polvo Nido Entera 1.35 Kg</td>\n      <td>14490</td>\n      <td>Leche Entera</td>\n      <td>https://www.santaisabel.cl/leche-en-polvo-ente...</td>\n      <td>2024-10-01</td>\n      <td>NaN</td>\n    </tr>\n    <tr>\n      <th>412</th>\n      <td>Unimarc</td>\n      <td>Colun</td>\n      <td>Pack Leche Entera Natural Colun, Sin Tapa 12 U...</td>\n      <td>15350</td>\n      <td>Leche Entera</td>\n      <td>https://www.unimarc.cl/product/leche-entera-na...</td>\n      <td>2024-10-01</td>\n      <td>NaN</td>\n    </tr>\n    <tr>\n      <th>413</th>\n      <td>Jumbo</td>\n      <td>Colun</td>\n      <td>Pack 12 Un. Leche Colun Entera Sin Lactosa 1 L</td>\n      <td>16668</td>\n      <td>Leche Entera</td>\n      <td>https://www.jumbo.cl/pack-leche-entera-sin-lac...</td>\n      <td>2024-10-01</td>\n      <td>NaN</td>\n    </tr>\n    <tr>\n      <th>414</th>\n      <td>Jumbo</td>\n      <td>Nido</td>\n      <td>Leche Polvo Nido Entera 1.9 Kg</td>\n      <td>19350</td>\n      <td>Leche Entera</td>\n      <td>https://www.jumbo.cl/leche-nido-entera-1900g-1...</td>\n      <td>2024-10-01</td>\n      <td>NaN</td>\n    </tr>\n  </tbody>\n</table>\n<p>415 rows × 8 columns</p>\n</div>"
     },
     "execution_count": 2,
     "metadata": {},
     "output_type": "execute_result"
    }
   ],
   "source": [
    "import pandas as pd\n",
    "\n",
    "# Quitar comentario si se necesita crear una nueva tabla\n",
    "#df = pd.DataFrame(columns=['Supermercado','Marca','Producto','Precio','Categoria', 'Enlace', 'Fecha', 'porMayor'])\n",
    "\n",
    "# Importar tabla de github\n",
    "df = pd.read_csv(\"https://raw.githubusercontent.com/1bryanvalenzuela/Comparador-Supermercados-Chile/refs/heads/main/Listado-Supermercado.csv\", index_col=[\"Id\"])\n",
    "\n",
    "# Revisar tabla\n",
    "df"
   ],
   "metadata": {
    "collapsed": false,
    "ExecuteTime": {
     "end_time": "2024-10-06T03:23:45.168768Z",
     "start_time": "2024-10-06T03:23:45.096817Z"
    }
   },
   "id": "9631b7d765b25d42",
   "execution_count": 2
  },
  {
   "cell_type": "code",
   "outputs": [
    {
     "name": "stdout",
     "output_type": "stream",
     "text": [
      "Lider - Scrap realizado Tallarín\n",
      "Unimarc - Scrap realizado Tallarín\n",
      "Santa Isabel - Scrap realizado Tallarín\n",
      "Jumbo - Scrap realizado Tallarín\n",
      "Lider - Scrap realizado Jurel\n",
      "Unimarc - Scrap realizado Jurel\n",
      "Santa Isabel - Scrap realizado Jurel\n",
      "Jumbo - Scrap realizado Jurel\n",
      "Lider - Scrap realizado Leche Entera\n",
      "Unimarc - Scrap realizado Leche Entera\n",
      "Santa Isabel - Scrap realizado Leche Entera\n",
      "Jumbo - Scrap realizado Leche Entera\n",
      "Lider - Scrap realizado Frac\n",
      "Unimarc - Scrap realizado Frac\n",
      "Santa Isabel - Scrap realizado Frac\n",
      "Jumbo - Scrap realizado Frac\n",
      "Lider - Scrap realizado Porotos\n",
      "Unimarc - Scrap realizado Porotos\n",
      "Santa Isabel - Scrap realizado Porotos\n",
      "Jumbo - Scrap realizado Porotos\n"
     ]
    }
   ],
   "source": [
    "# Terminos a buscar en los scraper:\n",
    "ListaBusqueda = [\"Tallarín\", \"Jurel\", \"Leche Entera\", \"Frac\", \"Porotos\"]\n",
    "\n",
    "# Uso de scrapers\n",
    "for texto in ListaBusqueda:\n",
    "    scrap_lider(texto,df)\n",
    "    scrap_unimarc(texto,df)\n",
    "    scrap_santai(texto,df)\n",
    "    scrap_jumbo(texto,df)\n",
    "    time.sleep(30)"
   ],
   "metadata": {
    "collapsed": false,
    "ExecuteTime": {
     "end_time": "2024-10-06T04:01:19.549600Z",
     "start_time": "2024-10-06T03:48:35.686862Z"
    }
   },
   "id": "f38268cb4e8e789b",
   "execution_count": 7
  },
  {
   "cell_type": "code",
   "outputs": [
    {
     "data": {
      "text/plain": "    Supermercado                      Marca  \\\nId                                            \n0          Lider                    Soprole   \n1          Lider                      Costa   \n2          Lider                      Costa   \n3          Lider                      Costa   \n4          Lider                      Costa   \n..           ...                        ...   \n840        Jumbo                    Hitecsa   \n841        Jumbo                       Ilko   \n842        Jumbo                 Iansa Agro   \n843        Jumbo  Frutas Y Verduras Propias   \n844        Jumbo                 Iansa Agro   \n\n                                 Producto  Precio     Categoria  \\\nId                                                                \n0            Leche Entera Natural, 200 Ml     470  Leche Entera   \n1       Galletas Frac Bi Capuccino, 110 G     483          Frac   \n2             Galleta Frac Clásica, 110 G     483          Frac   \n3           Galleta Frac Chocolate, 110 G     483          Frac   \n4         Galleta Frac Bi Frutilla, 110 G     483          Frac   \n..                                    ...     ...           ...   \n840  Porotos Granados Con Mazamorra Greda    4590       Porotos   \n841       Rebanador De Porotos Ilko Basic    7290       Porotos   \n842            Porotos Rojos Listos 390 G    1389       Porotos   \n843                  Porotos Verdes 500 G       0       Porotos   \n844       Porotos Tórtola Iansa Agro 1 Kg       0       Porotos   \n\n                                                Enlace       Fecha porMayor  \nId                                                                           \n0    https://www.lider.cl/supermercado/product/sku/...  2024-10-01      NaN  \n1    https://www.lider.cl/supermercado/product/sku/...  2024-10-01      NaN  \n2    https://www.lider.cl/supermercado/product/sku/...  2024-10-01      NaN  \n3    https://www.lider.cl/supermercado/product/sku/...  2024-10-01      NaN  \n4    https://www.lider.cl/supermercado/product/sku/...  2024-10-01      NaN  \n..                                                 ...         ...      ...  \n840  https://www.jumbo.cl/porotos-granados-con-maza...  2024-10-06           \n841  https://www.jumbo.cl/rebanador-de-porotos-ilko...  2024-10-06           \n842           https://www.jumbo.cl/poroto-rojo-iansa/p  2024-10-06           \n843        https://www.jumbo.cl/porotos-verdes-500-g/p  2024-10-06           \n844         https://www.jumbo.cl/poroto-tortola-1-kg/p  2024-10-06           \n\n[845 rows x 8 columns]",
      "text/html": "<div>\n<style scoped>\n    .dataframe tbody tr th:only-of-type {\n        vertical-align: middle;\n    }\n\n    .dataframe tbody tr th {\n        vertical-align: top;\n    }\n\n    .dataframe thead th {\n        text-align: right;\n    }\n</style>\n<table border=\"1\" class=\"dataframe\">\n  <thead>\n    <tr style=\"text-align: right;\">\n      <th></th>\n      <th>Supermercado</th>\n      <th>Marca</th>\n      <th>Producto</th>\n      <th>Precio</th>\n      <th>Categoria</th>\n      <th>Enlace</th>\n      <th>Fecha</th>\n      <th>porMayor</th>\n    </tr>\n    <tr>\n      <th>Id</th>\n      <th></th>\n      <th></th>\n      <th></th>\n      <th></th>\n      <th></th>\n      <th></th>\n      <th></th>\n      <th></th>\n    </tr>\n  </thead>\n  <tbody>\n    <tr>\n      <th>0</th>\n      <td>Lider</td>\n      <td>Soprole</td>\n      <td>Leche Entera Natural, 200 Ml</td>\n      <td>470</td>\n      <td>Leche Entera</td>\n      <td>https://www.lider.cl/supermercado/product/sku/...</td>\n      <td>2024-10-01</td>\n      <td>NaN</td>\n    </tr>\n    <tr>\n      <th>1</th>\n      <td>Lider</td>\n      <td>Costa</td>\n      <td>Galletas Frac Bi Capuccino, 110 G</td>\n      <td>483</td>\n      <td>Frac</td>\n      <td>https://www.lider.cl/supermercado/product/sku/...</td>\n      <td>2024-10-01</td>\n      <td>NaN</td>\n    </tr>\n    <tr>\n      <th>2</th>\n      <td>Lider</td>\n      <td>Costa</td>\n      <td>Galleta Frac Clásica, 110 G</td>\n      <td>483</td>\n      <td>Frac</td>\n      <td>https://www.lider.cl/supermercado/product/sku/...</td>\n      <td>2024-10-01</td>\n      <td>NaN</td>\n    </tr>\n    <tr>\n      <th>3</th>\n      <td>Lider</td>\n      <td>Costa</td>\n      <td>Galleta Frac Chocolate, 110 G</td>\n      <td>483</td>\n      <td>Frac</td>\n      <td>https://www.lider.cl/supermercado/product/sku/...</td>\n      <td>2024-10-01</td>\n      <td>NaN</td>\n    </tr>\n    <tr>\n      <th>4</th>\n      <td>Lider</td>\n      <td>Costa</td>\n      <td>Galleta Frac Bi Frutilla, 110 G</td>\n      <td>483</td>\n      <td>Frac</td>\n      <td>https://www.lider.cl/supermercado/product/sku/...</td>\n      <td>2024-10-01</td>\n      <td>NaN</td>\n    </tr>\n    <tr>\n      <th>...</th>\n      <td>...</td>\n      <td>...</td>\n      <td>...</td>\n      <td>...</td>\n      <td>...</td>\n      <td>...</td>\n      <td>...</td>\n      <td>...</td>\n    </tr>\n    <tr>\n      <th>840</th>\n      <td>Jumbo</td>\n      <td>Hitecsa</td>\n      <td>Porotos Granados Con Mazamorra Greda</td>\n      <td>4590</td>\n      <td>Porotos</td>\n      <td>https://www.jumbo.cl/porotos-granados-con-maza...</td>\n      <td>2024-10-06</td>\n      <td></td>\n    </tr>\n    <tr>\n      <th>841</th>\n      <td>Jumbo</td>\n      <td>Ilko</td>\n      <td>Rebanador De Porotos Ilko Basic</td>\n      <td>7290</td>\n      <td>Porotos</td>\n      <td>https://www.jumbo.cl/rebanador-de-porotos-ilko...</td>\n      <td>2024-10-06</td>\n      <td></td>\n    </tr>\n    <tr>\n      <th>842</th>\n      <td>Jumbo</td>\n      <td>Iansa Agro</td>\n      <td>Porotos Rojos Listos 390 G</td>\n      <td>1389</td>\n      <td>Porotos</td>\n      <td>https://www.jumbo.cl/poroto-rojo-iansa/p</td>\n      <td>2024-10-06</td>\n      <td></td>\n    </tr>\n    <tr>\n      <th>843</th>\n      <td>Jumbo</td>\n      <td>Frutas Y Verduras Propias</td>\n      <td>Porotos Verdes 500 G</td>\n      <td>0</td>\n      <td>Porotos</td>\n      <td>https://www.jumbo.cl/porotos-verdes-500-g/p</td>\n      <td>2024-10-06</td>\n      <td></td>\n    </tr>\n    <tr>\n      <th>844</th>\n      <td>Jumbo</td>\n      <td>Iansa Agro</td>\n      <td>Porotos Tórtola Iansa Agro 1 Kg</td>\n      <td>0</td>\n      <td>Porotos</td>\n      <td>https://www.jumbo.cl/poroto-tortola-1-kg/p</td>\n      <td>2024-10-06</td>\n      <td></td>\n    </tr>\n  </tbody>\n</table>\n<p>845 rows × 8 columns</p>\n</div>"
     },
     "execution_count": 8,
     "metadata": {},
     "output_type": "execute_result"
    }
   ],
   "source": [
    "df"
   ],
   "metadata": {
    "collapsed": false,
    "ExecuteTime": {
     "end_time": "2024-10-06T04:01:25.276874Z",
     "start_time": "2024-10-06T04:01:25.262422Z"
    }
   },
   "id": "3dfd4cdccfbeeb0c",
   "execution_count": 8
  },
  {
   "cell_type": "markdown",
   "source": [
    "#### Limpieza y exportación"
   ],
   "metadata": {
    "collapsed": false
   },
   "id": "1b0e8b37ccb209c0"
  },
  {
   "cell_type": "code",
   "outputs": [
    {
     "data": {
      "text/plain": "    Supermercado    Marca                                           Producto  \\\nId                                                                             \n0          Lider  Soprole                       Leche Entera Natural, 200 Ml   \n1          Lider  Soprole                       Leche Entera Natural, 200 Ml   \n2          Lider    Costa                        Galleta Frac Clásica, 110 G   \n3          Lider    Costa                      Galleta Frac Chocolate, 110 G   \n4          Lider    Costa                    Galleta Frac Bi Frutilla, 110 G   \n..           ...      ...                                                ...   \n825      Unimarc    Colun  Pack Leche Entera Natural Colun, Sin Tapa 12 U...   \n826      Unimarc    Colun  Pack Leche Entera Natural Colun, Sin Tapa 12 U...   \n827        Jumbo    Colun     Pack 12 Un. Leche Colun Entera Sin Lactosa 1 L   \n828        Jumbo     Nido                     Leche Polvo Nido Entera 1.9 Kg   \n829        Jumbo     Nido                     Leche Polvo Nido Entera 1.9 Kg   \n\n     Precio     Categoria                                             Enlace  \\\nId                                                                             \n0       470  Leche Entera  https://www.lider.cl/supermercado/product/sku/...   \n1       470  Leche Entera  https://www.lider.cl/supermercado/product/sku/...   \n2       483          Frac  https://www.lider.cl/supermercado/product/sku/...   \n3       483          Frac  https://www.lider.cl/supermercado/product/sku/...   \n4       483          Frac  https://www.lider.cl/supermercado/product/sku/...   \n..      ...           ...                                                ...   \n825   15350  Leche Entera  https://www.unimarc.cl/product/leche-entera-na...   \n826   15350  Leche Entera  https://www.unimarc.cl/product/leche-entera-na...   \n827   16668  Leche Entera  https://www.jumbo.cl/pack-leche-entera-sin-lac...   \n828   19350  Leche Entera  https://www.jumbo.cl/leche-nido-entera-1900g-1...   \n829   19350  Leche Entera  https://www.jumbo.cl/leche-nido-entera-1900g-1...   \n\n          Fecha porMayor  \nId                        \n0    2024-10-01      NaN  \n1    2024-10-06           \n2    2024-10-01      NaN  \n3    2024-10-01      NaN  \n4    2024-10-01      NaN  \n..          ...      ...  \n825  2024-10-06           \n826  2024-10-01      NaN  \n827  2024-10-01      NaN  \n828  2024-10-06           \n829  2024-10-01      NaN  \n\n[830 rows x 8 columns]",
      "text/html": "<div>\n<style scoped>\n    .dataframe tbody tr th:only-of-type {\n        vertical-align: middle;\n    }\n\n    .dataframe tbody tr th {\n        vertical-align: top;\n    }\n\n    .dataframe thead th {\n        text-align: right;\n    }\n</style>\n<table border=\"1\" class=\"dataframe\">\n  <thead>\n    <tr style=\"text-align: right;\">\n      <th></th>\n      <th>Supermercado</th>\n      <th>Marca</th>\n      <th>Producto</th>\n      <th>Precio</th>\n      <th>Categoria</th>\n      <th>Enlace</th>\n      <th>Fecha</th>\n      <th>porMayor</th>\n    </tr>\n    <tr>\n      <th>Id</th>\n      <th></th>\n      <th></th>\n      <th></th>\n      <th></th>\n      <th></th>\n      <th></th>\n      <th></th>\n      <th></th>\n    </tr>\n  </thead>\n  <tbody>\n    <tr>\n      <th>0</th>\n      <td>Lider</td>\n      <td>Soprole</td>\n      <td>Leche Entera Natural, 200 Ml</td>\n      <td>470</td>\n      <td>Leche Entera</td>\n      <td>https://www.lider.cl/supermercado/product/sku/...</td>\n      <td>2024-10-01</td>\n      <td>NaN</td>\n    </tr>\n    <tr>\n      <th>1</th>\n      <td>Lider</td>\n      <td>Soprole</td>\n      <td>Leche Entera Natural, 200 Ml</td>\n      <td>470</td>\n      <td>Leche Entera</td>\n      <td>https://www.lider.cl/supermercado/product/sku/...</td>\n      <td>2024-10-06</td>\n      <td></td>\n    </tr>\n    <tr>\n      <th>2</th>\n      <td>Lider</td>\n      <td>Costa</td>\n      <td>Galleta Frac Clásica, 110 G</td>\n      <td>483</td>\n      <td>Frac</td>\n      <td>https://www.lider.cl/supermercado/product/sku/...</td>\n      <td>2024-10-01</td>\n      <td>NaN</td>\n    </tr>\n    <tr>\n      <th>3</th>\n      <td>Lider</td>\n      <td>Costa</td>\n      <td>Galleta Frac Chocolate, 110 G</td>\n      <td>483</td>\n      <td>Frac</td>\n      <td>https://www.lider.cl/supermercado/product/sku/...</td>\n      <td>2024-10-01</td>\n      <td>NaN</td>\n    </tr>\n    <tr>\n      <th>4</th>\n      <td>Lider</td>\n      <td>Costa</td>\n      <td>Galleta Frac Bi Frutilla, 110 G</td>\n      <td>483</td>\n      <td>Frac</td>\n      <td>https://www.lider.cl/supermercado/product/sku/...</td>\n      <td>2024-10-01</td>\n      <td>NaN</td>\n    </tr>\n    <tr>\n      <th>...</th>\n      <td>...</td>\n      <td>...</td>\n      <td>...</td>\n      <td>...</td>\n      <td>...</td>\n      <td>...</td>\n      <td>...</td>\n      <td>...</td>\n    </tr>\n    <tr>\n      <th>825</th>\n      <td>Unimarc</td>\n      <td>Colun</td>\n      <td>Pack Leche Entera Natural Colun, Sin Tapa 12 U...</td>\n      <td>15350</td>\n      <td>Leche Entera</td>\n      <td>https://www.unimarc.cl/product/leche-entera-na...</td>\n      <td>2024-10-06</td>\n      <td></td>\n    </tr>\n    <tr>\n      <th>826</th>\n      <td>Unimarc</td>\n      <td>Colun</td>\n      <td>Pack Leche Entera Natural Colun, Sin Tapa 12 U...</td>\n      <td>15350</td>\n      <td>Leche Entera</td>\n      <td>https://www.unimarc.cl/product/leche-entera-na...</td>\n      <td>2024-10-01</td>\n      <td>NaN</td>\n    </tr>\n    <tr>\n      <th>827</th>\n      <td>Jumbo</td>\n      <td>Colun</td>\n      <td>Pack 12 Un. Leche Colun Entera Sin Lactosa 1 L</td>\n      <td>16668</td>\n      <td>Leche Entera</td>\n      <td>https://www.jumbo.cl/pack-leche-entera-sin-lac...</td>\n      <td>2024-10-01</td>\n      <td>NaN</td>\n    </tr>\n    <tr>\n      <th>828</th>\n      <td>Jumbo</td>\n      <td>Nido</td>\n      <td>Leche Polvo Nido Entera 1.9 Kg</td>\n      <td>19350</td>\n      <td>Leche Entera</td>\n      <td>https://www.jumbo.cl/leche-nido-entera-1900g-1...</td>\n      <td>2024-10-06</td>\n      <td></td>\n    </tr>\n    <tr>\n      <th>829</th>\n      <td>Jumbo</td>\n      <td>Nido</td>\n      <td>Leche Polvo Nido Entera 1.9 Kg</td>\n      <td>19350</td>\n      <td>Leche Entera</td>\n      <td>https://www.jumbo.cl/leche-nido-entera-1900g-1...</td>\n      <td>2024-10-01</td>\n      <td>NaN</td>\n    </tr>\n  </tbody>\n</table>\n<p>830 rows × 8 columns</p>\n</div>"
     },
     "execution_count": 13,
     "metadata": {},
     "output_type": "execute_result"
    }
   ],
   "source": [
    "# Quitar resultados con valor a 0 (agotados o no disponibles en la tienda)\n",
    "df2 = df[df['Precio'] != 0]\n",
    "\n",
    "# Ordenar productos por precio de forma ascendente, reiniciar index y nombrarlo como \"Id\", para que los datos sean más fáciles de ordenar y leer en Power BI.\n",
    "df3 = df2.sort_values(by=[\"Precio\"], ascending=True).reset_index(drop=True)\n",
    "df3.index.name = \"Id\"\n",
    "\n",
    "# Tabla final\n",
    "df3"
   ],
   "metadata": {
    "collapsed": false,
    "ExecuteTime": {
     "end_time": "2024-10-06T04:09:33.664988Z",
     "start_time": "2024-10-06T04:09:33.636488Z"
    }
   },
   "id": "92801bd5b1e389cc",
   "execution_count": 13
  },
  {
   "cell_type": "code",
   "outputs": [
    {
     "name": "stdout",
     "output_type": "stream",
     "text": [
      "Archivo subido correctamente.\n"
     ]
    }
   ],
   "source": [
    "import requests\n",
    "import base64\n",
    "from io import StringIO\n",
    "\n",
    "# Exportación del CSV final\n",
    "\n",
    "# Quitar comentario para guardar localmente (configurar ruta)\n",
    "#df3.to_csv('C:/Users/Bryan/Documents/Portafolio/Supermercados/Listado-Supermercado.csv')\n",
    "\n",
    "# Detalles del archivo y del repositorio\n",
    "repo = \"1bryanvalenzuela/Comparador-Supermercados-Chile\"\n",
    "csv = \"Listado-Supermercado.csv\"\n",
    "branch = \"main\"\n",
    "token = \"\"\n",
    "\n",
    "# Convertir el DataFrame a un CSV en memoria usando StringIO\n",
    "csv_buffer = StringIO()\n",
    "df3.to_csv(csv_buffer, index=True, index_label=\"Id\")\n",
    "\n",
    "# Obtener el contenido del archivo en formato string y codificarlo en base64\n",
    "contenido_csv = csv_buffer.getvalue()\n",
    "contenido_encoded = base64.b64encode(contenido_csv.encode()).decode()\n",
    "\n",
    "# URL de la API de GitHub para obtener el archivo actual\n",
    "url_obtener = f\"https://api.github.com/repos/{repo}/contents/{csv}\"\n",
    "\n",
    "# Realizar la solicitud para obtener el archivo existente\n",
    "respuesta_obtener = requests.get(url_obtener, headers={\"Authorization\": f\"token {token}\"})\n",
    "\n",
    "# Si el archivo existe, obtenemos el SHA\n",
    "if respuesta_obtener.status_code == 200:\n",
    "    sha = respuesta_obtener.json()[\"sha\"]\n",
    "else:\n",
    "    sha = None\n",
    "\n",
    "# URL de la API de GitHub para subir archivos\n",
    "url = f\"https://api.github.com/repos/{repo}/contents/{csv}\"\n",
    "\n",
    "# Crear el payload para la solicitud\n",
    "data = {\n",
    "    \"message\": \"CSV Añadido\",\n",
    "    \"content\": contenido_encoded,\n",
    "    \"branch\": branch\n",
    "}\n",
    "\n",
    "if sha:\n",
    "    data[\"sha\"] = sha\n",
    "\n",
    "# Realizar la solicitud a la API de GitHub\n",
    "respuesta = requests.put(url, json=data, headers={\"Authorization\": f\"token {token}\"})\n",
    "\n",
    "# Mostrar resultado de la subida\n",
    "if respuesta.status_code in [200, 201]:\n",
    "    print(\"Archivo subido correctamente.\")\n",
    "else:\n",
    "    print(f\"Error al subir el archivo: {respuesta.status_code}\")"
   ],
   "metadata": {
    "collapsed": false,
    "ExecuteTime": {
     "end_time": "2024-10-06T04:11:34.821735Z",
     "start_time": "2024-10-06T04:11:32.490641Z"
    }
   },
   "id": "56133a031eb8dce3",
   "execution_count": 14
  }
 ],
 "metadata": {
  "kernelspec": {
   "display_name": "Python 3",
   "language": "python",
   "name": "python3"
  },
  "language_info": {
   "codemirror_mode": {
    "name": "ipython",
    "version": 2
   },
   "file_extension": ".py",
   "mimetype": "text/x-python",
   "name": "python",
   "nbconvert_exporter": "python",
   "pygments_lexer": "ipython2",
   "version": "2.7.6"
  }
 },
 "nbformat": 4,
 "nbformat_minor": 5
}
