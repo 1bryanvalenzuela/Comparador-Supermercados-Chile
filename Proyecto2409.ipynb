{
 "cells": [
  {
   "cell_type": "code",
   "outputs": [],
   "source": [
    "from selenium import webdriver\n",
    "from selenium.webdriver.chrome.service import Service\n",
    "from selenium.webdriver.common.by import By\n",
    "from bs4 import BeautifulSoup\n",
    "from random import randrange\n",
    "from datetime import datetime\n",
    "import urllib.parse\n",
    "import time\n",
    "import re\n",
    "\n",
    "def transformar(texto):\n",
    "    return urllib.parse.quote(texto)\n",
    "\n",
    "def scrap_jumbo(busqueda,tabla):\n",
    "    \n",
    "    options = webdriver.ChromeOptions()\n",
    "    options.add_argument('--headless')\n",
    "    \n",
    "    fecha = datetime.now().date()\n",
    "    tiempo = randrange(5,10)\n",
    "    driver = webdriver.Chrome(options=options)\n",
    "    textobusqueda = transformar(busqueda)\n",
    "    url = f'https://www.jumbo.cl/busqueda?ft={textobusqueda}'\n",
    "    \n",
    "    driver.get(url)\n",
    "    time.sleep(tiempo)\n",
    "    html = driver.page_source\n",
    "    soup = BeautifulSoup(html, 'html.parser')\n",
    "    productos = soup.find_all('div', class_='product-card')\n",
    "    \n",
    "    for producto in productos:\n",
    "    \n",
    "        marca = producto.find('a', class_='product-card-brand')\n",
    "        marca_text = marca.get_text(strip=True).title() if marca else 'Sin marca'\n",
    "\n",
    "        nombre = producto.find('a', class_='product-card-name')\n",
    "        nombre_text = nombre.get_text(strip=True).title() if nombre else 'Sin nombre'\n",
    "\n",
    "        precio = producto.find('span', class_='prices-main-price')\n",
    "        precio_text = precio.get_text(strip=True) if precio else '0'\n",
    "        precio_cleaned = int(precio_text.replace('$', '').replace('.', ''))\n",
    "\n",
    "        link = producto.find('a', class_='product-card-image-link')\n",
    "        link_text = link.get('href') if link else 'Sin enlace'\n",
    "\n",
    "        fila = { 'Supermercado': 'Jumbo',\n",
    "                 'Marca': marca_text,\n",
    "                 'Producto': nombre_text,\n",
    "                 'Precio': precio_cleaned,\n",
    "                 'Categoria': busqueda,\n",
    "                 'Enlace': f'https://www.jumbo.cl{link_text}',\n",
    "                 'Fecha': fecha\n",
    "                 }\n",
    "        \n",
    "        tabla.loc[len(tabla)] = fila\n",
    "        \n",
    "    driver.quit()\n",
    "\n",
    "def scrap_santai(busqueda,tabla):\n",
    "    \n",
    "    options = webdriver.ChromeOptions()\n",
    "    options.add_argument('--headless')\n",
    "    \n",
    "    fecha = datetime.now().date()\n",
    "    tiempo = randrange(5,10)\n",
    "    driver = webdriver.Chrome(options=options)\n",
    "    textobusqueda = transformar(busqueda)\n",
    "    url = f'https://www.santaisabel.cl/busqueda?ft={textobusqueda}'\n",
    "    \n",
    "    driver.get(url)\n",
    "    time.sleep(tiempo)\n",
    "    html = driver.page_source\n",
    "    soup = BeautifulSoup(html, 'html.parser')\n",
    "    productos = soup.find_all('div', class_='product-card')\n",
    "    \n",
    "    for producto in productos:\n",
    "    \n",
    "        marca = producto.find('a', class_='product-card-brand')\n",
    "        marca_text = marca.get_text(strip=True).title() if marca else 'Sin marca'\n",
    "\n",
    "        nombre = producto.find('a', class_='product-card-name')\n",
    "        nombre_text = nombre.get_text(strip=True).title() if nombre else 'Sin nombre'\n",
    "\n",
    "        precio = producto.find('span', class_='prices-main-price')\n",
    "        precio_text = precio.get_text(strip=True) if precio else '0'\n",
    "        precio_cleaned = int(precio_text.replace('$', '').replace('.', ''))\n",
    "\n",
    "        link = producto.find('a', class_='product-card-image-link')\n",
    "        link_text = link.get('href') if link else 'Sin enlace'\n",
    "\n",
    "        fila = { 'Supermercado': 'Santa Isabel',\n",
    "                 'Marca': marca_text,\n",
    "                 'Producto': nombre_text,\n",
    "                 'Precio': precio_cleaned,\n",
    "                 'Categoria': busqueda,\n",
    "                 'Enlace': f'https://www.santaisabel.cl{link_text}',\n",
    "                 'Fecha': fecha\n",
    "                 }\n",
    "        \n",
    "        tabla.loc[len(tabla)] = fila\n",
    "        \n",
    "    driver.quit()\n",
    "\n",
    "def scrap_lider(busqueda,tabla):\n",
    "    \n",
    "    options = webdriver.ChromeOptions()\n",
    "    options.add_argument(\"user-agent=Mozilla/5.0 (Windows NT 10.0; Win64; x64) AppleWebKit/537.36 (KHTML, like Gecko) Chrome/91.0.4472.124 Safari/537.36\")\n",
    "    options.add_argument(\"--disable-blink-features=AutomationControlled\")\n",
    "    options.add_experimental_option(\"excludeSwitches\", [\"enable-automation\"])\n",
    "    options.add_experimental_option('useAutomationExtension', False)\n",
    "    \n",
    "    fecha = datetime.now().date()\n",
    "    tiempo = randrange(12,24)\n",
    "    driver = webdriver.Chrome(options=options)\n",
    "    textobusqueda = transformar(busqueda)\n",
    "    url = f'https://www.lider.cl/supermercado/search?query={textobusqueda}'\n",
    "    \n",
    "    driver.get(url)\n",
    "    time.sleep(tiempo)\n",
    "    driver.execute_script(\"Object.defineProperty(navigator, 'webdriver', {get: () => undefined})\")\n",
    "    html = driver.page_source\n",
    "    soup = BeautifulSoup(html, 'html.parser')\n",
    "    productos = soup.find_all('li', class_='ais-Hits-item')\n",
    "    \n",
    "    for producto in productos:\n",
    "    \n",
    "        nombre = producto.find('h2', class_='product-description')\n",
    "        \n",
    "        if nombre:\n",
    "            marca_span = nombre.find('span', style='font-weight: bold; color: rgb(0, 0, 0);')\n",
    "            marca_text = marca_span.get_text(strip=True).title() if marca_span else 'Sin marca'\n",
    "            \n",
    "            nombre_span = marca_span.find_next_sibling('span') if marca_span else None\n",
    "            nombre_text = nombre_span.get_text(strip=True).title() if nombre_span else 'Sin nombre'\n",
    "        else:\n",
    "            marca_text = 'Sin marca'\n",
    "            nombre_text = 'Sin nombre'\n",
    "\n",
    "        precio = producto.find('div', class_='product-card__sale-price')\n",
    "        precio_text = precio.get_text(strip=True) if precio else '0'\n",
    "        precio_cleaned = int(precio_text.replace('$', '').replace('.', ''))\n",
    "\n",
    "        link = product.find('a', {'data-testid': 'product-card-nav-test-id'})\n",
    "        link_text = link.get('href') if link else 'Sin enlace'\n",
    "\n",
    "        fila = { 'Supermercado': 'Lider',\n",
    "                 'Marca': marca_text,\n",
    "                 'Producto': nombre_text,\n",
    "                 'Precio': precio_cleaned,\n",
    "                 'Categoria': busqueda,\n",
    "                 'Enlace': f'https://www.lider.cl{link_text}',\n",
    "                 'Fecha': fecha\n",
    "                 }\n",
    "        \n",
    "        tabla.loc[len(tabla)] = fila\n",
    "        \n",
    "        time.sleep(randrange(2,5))\n",
    "        \n",
    "    driver.quit()\n",
    "    \n",
    "def scrap_unimarc(busqueda,tabla):\n",
    "    \n",
    "    options = webdriver.ChromeOptions()\n",
    "    options.add_argument(\"user-agent=Mozilla/5.0 (Windows NT 10.0; Win64; x64) AppleWebKit/537.36 (KHTML, like Gecko) Chrome/91.0.4472.124 Safari/537.36\")\n",
    "    options.add_argument(\"--disable-blink-features=AutomationControlled\")\n",
    "    options.add_experimental_option(\"excludeSwitches\", [\"enable-automation\"])\n",
    "    options.add_experimental_option('useAutomationExtension', False)\n",
    "    \n",
    "    fecha = datetime.now().date()\n",
    "    tiempo = randrange(5,10)\n",
    "    driver = webdriver.Chrome(options=options)\n",
    "    textobusqueda = busqueda.replace(' ', '-')\n",
    "    url = f'https://www.unimarc.cl/search?q={textobusqueda}'\n",
    "    \n",
    "    driver.get(url)\n",
    "    time.sleep(tiempo)\n",
    "    html = driver.page_source\n",
    "    soup = BeautifulSoup(html, 'html.parser')\n",
    "    contenedores = soup.find_all('div', class_='baseContainer_container__TSgMX ab__shelves abc__shelves baseContainer_justify-start___sjrG baseContainer_align-start__6PKCY baseContainer_absolute-default--topLeft__lN1In')\n",
    "    \n",
    "    for contenedor in contenedores:\n",
    "    \n",
    "        producto = contenedor.find('div', class_='baseContainer_container__TSgMX baseContainer_justify-start___sjrG baseContainer_align-start__6PKCY baseContainer_flex-direction--column__iiccg baseContainer_absolute-default--topLeft__lN1In')\n",
    "    \n",
    "        marca = producto.find('p', class_='Shelf_brandText__sGfsS')\n",
    "        marca_text = marca.get_text(strip=True).title() if marca else 'Sin marca'\n",
    "\n",
    "        nombre = producto.find('p', class_='Shelf_nameProduct__CXI5M')\n",
    "        nombre_text = nombre.get_text(strip=True).title() if nombre else 'Sin nombre'\n",
    "\n",
    "        precio = producto.find('p', class_='Text_text__cB7NM Text_text--left__1v2Xw Text_text--flex__F7yuI Text_text--medium__rIScp Text_text--lg__GZWsa Text_text--primary__OoK0C Text_text__cursor--auto__cMaN1 Text_text--none__zez2n')\n",
    "        precio_text = precio.get_text(strip=True) if precio else '0'\n",
    "        \n",
    "        match = re.match(r'(\\d+)\\s*x\\s*\\$([\\d.]+)', precio_text)\n",
    "        if match:\n",
    "            cantidad = int(match.group(1))\n",
    "            precio_total = int(match.group(2).replace('.', ''))\n",
    "            precio_cleaned = precio_total // cantidad\n",
    "        else:\n",
    "            precio_cleaned = int(precio_text.replace('$', '').replace('.', ''))\n",
    "\n",
    "        link = producto.find('a', class_='Link_link___5dmQ')\n",
    "        link_text = link.get('href') if link else 'Sin enlace'\n",
    "\n",
    "        fila = { 'Supermercado': 'Unimarc',\n",
    "                 'Marca': marca_text,\n",
    "                 'Producto': nombre_text,\n",
    "                 'Precio': precio_cleaned,\n",
    "                 'Categoria': busqueda,\n",
    "                 'Enlace': f'https://www.unimarc.cl{link_text}',\n",
    "                 'Fecha': fecha\n",
    "                 }\n",
    "        \n",
    "        tabla.loc[len(tabla)] = fila\n",
    "        \n",
    "    driver.quit()\n"
   ],
   "metadata": {
    "collapsed": false,
    "ExecuteTime": {
     "end_time": "2024-09-30T21:50:28.714054Z",
     "start_time": "2024-09-30T21:50:28.691365Z"
    }
   },
   "id": "23492ec169467400",
   "execution_count": 22
  },
  {
   "cell_type": "code",
   "outputs": [],
   "source": [
    "import pandas as pd\n",
    "\n",
    "df = pd.DataFrame(columns=['Supermercado','Marca','Producto','Precio','Categoria', 'Enlace', 'Fecha'])"
   ],
   "metadata": {
    "collapsed": false,
    "ExecuteTime": {
     "end_time": "2024-09-30T21:57:10.377636Z",
     "start_time": "2024-09-30T21:57:10.373136Z"
    }
   },
   "id": "9631b7d765b25d42",
   "execution_count": 26
  },
  {
   "cell_type": "code",
   "outputs": [],
   "source": [
    "ListaBusqueda = [\"Tallarín\", \"Arroz Grado 1\", \"Jurel\", \"Frac\", \"Leche Entera\"]\n",
    "\n",
    "for texto in ListaBusqueda:\n",
    "    scrap_unimarc(texto,df)\n",
    "    scrap_santai(texto,df)\n",
    "    scrap_jumbo(texto,df)\n",
    "    time.sleep(30)"
   ],
   "metadata": {
    "collapsed": false,
    "ExecuteTime": {
     "end_time": "2024-09-30T22:04:55.364677Z",
     "start_time": "2024-09-30T21:57:36.444979Z"
    }
   },
   "id": "f38268cb4e8e789b",
   "execution_count": 27
  },
  {
   "cell_type": "code",
   "outputs": [],
   "source": [
    "df2 = df[df['Precio'] != 0]"
   ],
   "metadata": {
    "collapsed": false,
    "ExecuteTime": {
     "end_time": "2024-09-30T22:07:29.209834Z",
     "start_time": "2024-09-30T22:07:29.204461Z"
    }
   },
   "id": "92801bd5b1e389cc",
   "execution_count": 29
  },
  {
   "cell_type": "code",
   "outputs": [
    {
     "data": {
      "text/plain": "     Supermercado  Marca                                           Producto  \\\n218       Unimarc  Costa                Galletas Costa Frac Chocolate 130 G   \n219       Unimarc  Costa                 Galletas Costa Frac Vainilla 130 G   \n220       Unimarc  Costa  Bombón Frac Costa Chocolate Con Trozos De Gall...   \n221       Unimarc  Costa                        Galletas Frac Clásica 110 G   \n222       Unimarc  Costa                        Galletas Frac Naranja 110 G   \n223       Unimarc  Costa                       Galletas Frac Vainilla 110 G   \n224       Unimarc  Costa                      Galletas Frac Chocolate 110 G   \n225       Unimarc  Costa                    Galletas Frac Bi Frutilla 110 G   \n226       Unimarc  Costa                  Galletas Frac Bi Cappuccino 110 G   \n227  Santa Isabel  Costa          Galletas Frac Bi Frutilla Chocolate 130 G   \n228  Santa Isabel  Costa                       Galletas Frac Vainilla 130 G   \n229  Santa Isabel  Costa                        Galletas Frac Naranja 130 G   \n230  Santa Isabel  Costa          Pack Galletas Frac Chocolates 208 G 4 Un.   \n231  Santa Isabel  Costa                   Bombones De Chocolate Frac  75 G   \n232  Santa Isabel  Costa                         Galletas Frac Clásica 52 G   \n233  Santa Isabel  Costa                    Galleta Frac Bi Capuccino 110 G   \n234  Santa Isabel  Costa                         Galleta Frac Naranja 110 G   \n235  Santa Isabel  Costa                     Galleta Frac Bi Frutilla 110 G   \n236  Santa Isabel  Costa                        Galleta Frac Vainilla 110 G   \n237  Santa Isabel  Costa                       Galleta Frac Chocolate 110 G   \n238         Jumbo  Costa          Pack Galletas Frac Chocolates 208 G 4 Un.   \n239         Jumbo  Costa                   Bombones De Chocolate Frac  75 G   \n240         Jumbo  Costa                    Galleta Frac Bi Capuccino 110 G   \n241         Jumbo  Costa                     Galleta Frac Bi Frutilla 110 G   \n242         Jumbo  Costa                         Galleta Frac Naranja 110 G   \n243         Jumbo  Costa                         Galleta Frac Clásica 110 G   \n244         Jumbo  Costa                       Galleta Frac Chocolate 110 G   \n245         Jumbo  Costa                        Galleta Frac Vainilla 110 G   \n\n     Precio Categoria                                             Enlace  \\\n218     510      Frac  https://www.unimarc.cl/product/galletas-frac-c...   \n219     510      Frac  https://www.unimarc.cl/product/galleta-frac-va...   \n220     990      Frac  https://www.unimarc.cl/product/bombon-choc-rel...   \n221     720      Frac  https://www.unimarc.cl/product/galleta-frac-co...   \n222     720      Frac  https://www.unimarc.cl/product/galleta-frac-co...   \n223     720      Frac  https://www.unimarc.cl/product/galleta-frac-co...   \n224     720      Frac  https://www.unimarc.cl/product/galleta-frac-co...   \n225     720      Frac  https://www.unimarc.cl/product/galleta-frac-co...   \n226     720      Frac  https://www.unimarc.cl/product/galleta-frac-co...   \n227     500      Frac  https://www.santaisabel.cl/galletas-frac-costa...   \n228     500      Frac  https://www.santaisabel.cl/galletas-frac-costa...   \n229     500      Frac  https://www.santaisabel.cl/galleta-frac-naranj...   \n230    1599      Frac  https://www.santaisabel.cl/pack-frac-chocolate...   \n231    1000      Frac  https://www.santaisabel.cl/bombon-frac-bolsa-7...   \n232     550      Frac  https://www.santaisabel.cl/galletas-frac-clasi...   \n233     500      Frac  https://www.santaisabel.cl/galleta-frac-bi-cap...   \n234     500      Frac  https://www.santaisabel.cl/galleta-frac-naranj...   \n235     500      Frac  https://www.santaisabel.cl/galleta-frac-bi-fru...   \n236     500      Frac  https://www.santaisabel.cl/galleta-frac-vainil...   \n237     500      Frac  https://www.santaisabel.cl/galleta-frac-chocol...   \n238    1599      Frac  https://www.jumbo.cl/pack-frac-chocolates-208-...   \n239    1000      Frac  https://www.jumbo.cl/bombon-frac-bolsa-75gr-19...   \n240     590      Frac  https://www.jumbo.cl/galleta-frac-bi-capuccino...   \n241     590      Frac  https://www.jumbo.cl/galleta-frac-bi-frutilla-...   \n242     590      Frac  https://www.jumbo.cl/galleta-frac-naranja-110-...   \n243     590      Frac  https://www.jumbo.cl/galleta-frac-clasica-110-...   \n244     590      Frac  https://www.jumbo.cl/galleta-frac-chocolate-11...   \n245     590      Frac  https://www.jumbo.cl/galleta-frac-vainilla-110...   \n\n          Fecha  \n218  2024-09-30  \n219  2024-09-30  \n220  2024-09-30  \n221  2024-09-30  \n222  2024-09-30  \n223  2024-09-30  \n224  2024-09-30  \n225  2024-09-30  \n226  2024-09-30  \n227  2024-09-30  \n228  2024-09-30  \n229  2024-09-30  \n230  2024-09-30  \n231  2024-09-30  \n232  2024-09-30  \n233  2024-09-30  \n234  2024-09-30  \n235  2024-09-30  \n236  2024-09-30  \n237  2024-09-30  \n238  2024-09-30  \n239  2024-09-30  \n240  2024-09-30  \n241  2024-09-30  \n242  2024-09-30  \n243  2024-09-30  \n244  2024-09-30  \n245  2024-09-30  ",
      "text/html": "<div>\n<style scoped>\n    .dataframe tbody tr th:only-of-type {\n        vertical-align: middle;\n    }\n\n    .dataframe tbody tr th {\n        vertical-align: top;\n    }\n\n    .dataframe thead th {\n        text-align: right;\n    }\n</style>\n<table border=\"1\" class=\"dataframe\">\n  <thead>\n    <tr style=\"text-align: right;\">\n      <th></th>\n      <th>Supermercado</th>\n      <th>Marca</th>\n      <th>Producto</th>\n      <th>Precio</th>\n      <th>Categoria</th>\n      <th>Enlace</th>\n      <th>Fecha</th>\n    </tr>\n  </thead>\n  <tbody>\n    <tr>\n      <th>218</th>\n      <td>Unimarc</td>\n      <td>Costa</td>\n      <td>Galletas Costa Frac Chocolate 130 G</td>\n      <td>510</td>\n      <td>Frac</td>\n      <td>https://www.unimarc.cl/product/galletas-frac-c...</td>\n      <td>2024-09-30</td>\n    </tr>\n    <tr>\n      <th>219</th>\n      <td>Unimarc</td>\n      <td>Costa</td>\n      <td>Galletas Costa Frac Vainilla 130 G</td>\n      <td>510</td>\n      <td>Frac</td>\n      <td>https://www.unimarc.cl/product/galleta-frac-va...</td>\n      <td>2024-09-30</td>\n    </tr>\n    <tr>\n      <th>220</th>\n      <td>Unimarc</td>\n      <td>Costa</td>\n      <td>Bombón Frac Costa Chocolate Con Trozos De Gall...</td>\n      <td>990</td>\n      <td>Frac</td>\n      <td>https://www.unimarc.cl/product/bombon-choc-rel...</td>\n      <td>2024-09-30</td>\n    </tr>\n    <tr>\n      <th>221</th>\n      <td>Unimarc</td>\n      <td>Costa</td>\n      <td>Galletas Frac Clásica 110 G</td>\n      <td>720</td>\n      <td>Frac</td>\n      <td>https://www.unimarc.cl/product/galleta-frac-co...</td>\n      <td>2024-09-30</td>\n    </tr>\n    <tr>\n      <th>222</th>\n      <td>Unimarc</td>\n      <td>Costa</td>\n      <td>Galletas Frac Naranja 110 G</td>\n      <td>720</td>\n      <td>Frac</td>\n      <td>https://www.unimarc.cl/product/galleta-frac-co...</td>\n      <td>2024-09-30</td>\n    </tr>\n    <tr>\n      <th>223</th>\n      <td>Unimarc</td>\n      <td>Costa</td>\n      <td>Galletas Frac Vainilla 110 G</td>\n      <td>720</td>\n      <td>Frac</td>\n      <td>https://www.unimarc.cl/product/galleta-frac-co...</td>\n      <td>2024-09-30</td>\n    </tr>\n    <tr>\n      <th>224</th>\n      <td>Unimarc</td>\n      <td>Costa</td>\n      <td>Galletas Frac Chocolate 110 G</td>\n      <td>720</td>\n      <td>Frac</td>\n      <td>https://www.unimarc.cl/product/galleta-frac-co...</td>\n      <td>2024-09-30</td>\n    </tr>\n    <tr>\n      <th>225</th>\n      <td>Unimarc</td>\n      <td>Costa</td>\n      <td>Galletas Frac Bi Frutilla 110 G</td>\n      <td>720</td>\n      <td>Frac</td>\n      <td>https://www.unimarc.cl/product/galleta-frac-co...</td>\n      <td>2024-09-30</td>\n    </tr>\n    <tr>\n      <th>226</th>\n      <td>Unimarc</td>\n      <td>Costa</td>\n      <td>Galletas Frac Bi Cappuccino 110 G</td>\n      <td>720</td>\n      <td>Frac</td>\n      <td>https://www.unimarc.cl/product/galleta-frac-co...</td>\n      <td>2024-09-30</td>\n    </tr>\n    <tr>\n      <th>227</th>\n      <td>Santa Isabel</td>\n      <td>Costa</td>\n      <td>Galletas Frac Bi Frutilla Chocolate 130 G</td>\n      <td>500</td>\n      <td>Frac</td>\n      <td>https://www.santaisabel.cl/galletas-frac-costa...</td>\n      <td>2024-09-30</td>\n    </tr>\n    <tr>\n      <th>228</th>\n      <td>Santa Isabel</td>\n      <td>Costa</td>\n      <td>Galletas Frac Vainilla 130 G</td>\n      <td>500</td>\n      <td>Frac</td>\n      <td>https://www.santaisabel.cl/galletas-frac-costa...</td>\n      <td>2024-09-30</td>\n    </tr>\n    <tr>\n      <th>229</th>\n      <td>Santa Isabel</td>\n      <td>Costa</td>\n      <td>Galletas Frac Naranja 130 G</td>\n      <td>500</td>\n      <td>Frac</td>\n      <td>https://www.santaisabel.cl/galleta-frac-naranj...</td>\n      <td>2024-09-30</td>\n    </tr>\n    <tr>\n      <th>230</th>\n      <td>Santa Isabel</td>\n      <td>Costa</td>\n      <td>Pack Galletas Frac Chocolates 208 G 4 Un.</td>\n      <td>1599</td>\n      <td>Frac</td>\n      <td>https://www.santaisabel.cl/pack-frac-chocolate...</td>\n      <td>2024-09-30</td>\n    </tr>\n    <tr>\n      <th>231</th>\n      <td>Santa Isabel</td>\n      <td>Costa</td>\n      <td>Bombones De Chocolate Frac  75 G</td>\n      <td>1000</td>\n      <td>Frac</td>\n      <td>https://www.santaisabel.cl/bombon-frac-bolsa-7...</td>\n      <td>2024-09-30</td>\n    </tr>\n    <tr>\n      <th>232</th>\n      <td>Santa Isabel</td>\n      <td>Costa</td>\n      <td>Galletas Frac Clásica 52 G</td>\n      <td>550</td>\n      <td>Frac</td>\n      <td>https://www.santaisabel.cl/galletas-frac-clasi...</td>\n      <td>2024-09-30</td>\n    </tr>\n    <tr>\n      <th>233</th>\n      <td>Santa Isabel</td>\n      <td>Costa</td>\n      <td>Galleta Frac Bi Capuccino 110 G</td>\n      <td>500</td>\n      <td>Frac</td>\n      <td>https://www.santaisabel.cl/galleta-frac-bi-cap...</td>\n      <td>2024-09-30</td>\n    </tr>\n    <tr>\n      <th>234</th>\n      <td>Santa Isabel</td>\n      <td>Costa</td>\n      <td>Galleta Frac Naranja 110 G</td>\n      <td>500</td>\n      <td>Frac</td>\n      <td>https://www.santaisabel.cl/galleta-frac-naranj...</td>\n      <td>2024-09-30</td>\n    </tr>\n    <tr>\n      <th>235</th>\n      <td>Santa Isabel</td>\n      <td>Costa</td>\n      <td>Galleta Frac Bi Frutilla 110 G</td>\n      <td>500</td>\n      <td>Frac</td>\n      <td>https://www.santaisabel.cl/galleta-frac-bi-fru...</td>\n      <td>2024-09-30</td>\n    </tr>\n    <tr>\n      <th>236</th>\n      <td>Santa Isabel</td>\n      <td>Costa</td>\n      <td>Galleta Frac Vainilla 110 G</td>\n      <td>500</td>\n      <td>Frac</td>\n      <td>https://www.santaisabel.cl/galleta-frac-vainil...</td>\n      <td>2024-09-30</td>\n    </tr>\n    <tr>\n      <th>237</th>\n      <td>Santa Isabel</td>\n      <td>Costa</td>\n      <td>Galleta Frac Chocolate 110 G</td>\n      <td>500</td>\n      <td>Frac</td>\n      <td>https://www.santaisabel.cl/galleta-frac-chocol...</td>\n      <td>2024-09-30</td>\n    </tr>\n    <tr>\n      <th>238</th>\n      <td>Jumbo</td>\n      <td>Costa</td>\n      <td>Pack Galletas Frac Chocolates 208 G 4 Un.</td>\n      <td>1599</td>\n      <td>Frac</td>\n      <td>https://www.jumbo.cl/pack-frac-chocolates-208-...</td>\n      <td>2024-09-30</td>\n    </tr>\n    <tr>\n      <th>239</th>\n      <td>Jumbo</td>\n      <td>Costa</td>\n      <td>Bombones De Chocolate Frac  75 G</td>\n      <td>1000</td>\n      <td>Frac</td>\n      <td>https://www.jumbo.cl/bombon-frac-bolsa-75gr-19...</td>\n      <td>2024-09-30</td>\n    </tr>\n    <tr>\n      <th>240</th>\n      <td>Jumbo</td>\n      <td>Costa</td>\n      <td>Galleta Frac Bi Capuccino 110 G</td>\n      <td>590</td>\n      <td>Frac</td>\n      <td>https://www.jumbo.cl/galleta-frac-bi-capuccino...</td>\n      <td>2024-09-30</td>\n    </tr>\n    <tr>\n      <th>241</th>\n      <td>Jumbo</td>\n      <td>Costa</td>\n      <td>Galleta Frac Bi Frutilla 110 G</td>\n      <td>590</td>\n      <td>Frac</td>\n      <td>https://www.jumbo.cl/galleta-frac-bi-frutilla-...</td>\n      <td>2024-09-30</td>\n    </tr>\n    <tr>\n      <th>242</th>\n      <td>Jumbo</td>\n      <td>Costa</td>\n      <td>Galleta Frac Naranja 110 G</td>\n      <td>590</td>\n      <td>Frac</td>\n      <td>https://www.jumbo.cl/galleta-frac-naranja-110-...</td>\n      <td>2024-09-30</td>\n    </tr>\n    <tr>\n      <th>243</th>\n      <td>Jumbo</td>\n      <td>Costa</td>\n      <td>Galleta Frac Clásica 110 G</td>\n      <td>590</td>\n      <td>Frac</td>\n      <td>https://www.jumbo.cl/galleta-frac-clasica-110-...</td>\n      <td>2024-09-30</td>\n    </tr>\n    <tr>\n      <th>244</th>\n      <td>Jumbo</td>\n      <td>Costa</td>\n      <td>Galleta Frac Chocolate 110 G</td>\n      <td>590</td>\n      <td>Frac</td>\n      <td>https://www.jumbo.cl/galleta-frac-chocolate-11...</td>\n      <td>2024-09-30</td>\n    </tr>\n    <tr>\n      <th>245</th>\n      <td>Jumbo</td>\n      <td>Costa</td>\n      <td>Galleta Frac Vainilla 110 G</td>\n      <td>590</td>\n      <td>Frac</td>\n      <td>https://www.jumbo.cl/galleta-frac-vainilla-110...</td>\n      <td>2024-09-30</td>\n    </tr>\n  </tbody>\n</table>\n</div>"
     },
     "execution_count": 32,
     "metadata": {},
     "output_type": "execute_result"
    }
   ],
   "source": [
    "df2[df2['Categoria'] == 'Frac']"
   ],
   "metadata": {
    "collapsed": false,
    "ExecuteTime": {
     "end_time": "2024-09-30T22:10:22.431119Z",
     "start_time": "2024-09-30T22:10:22.416856Z"
    }
   },
   "id": "7d5c1cdc89257a1",
   "execution_count": 32
  },
  {
   "cell_type": "code",
   "outputs": [],
   "source": [
    "df2.to_csv('C:/Users/Bryan/Documents/Portafolio/Supermercados/Listado-Supermercado.csv')"
   ],
   "metadata": {
    "collapsed": false,
    "ExecuteTime": {
     "end_time": "2024-09-30T22:09:39.452272Z",
     "start_time": "2024-09-30T22:09:39.438904Z"
    }
   },
   "id": "56133a031eb8dce3",
   "execution_count": 31
  },
  {
   "cell_type": "code",
   "outputs": [
    {
     "data": {
      "text/plain": "<selenium.webdriver.chrome.webdriver.WebDriver (session=\"bb935b940947970692cbdcb18910a4cb\")>"
     },
     "execution_count": 6,
     "metadata": {},
     "output_type": "execute_result"
    }
   ],
   "source": [
    "options = webdriver.ChromeOptions()\n",
    "options.add_argument(\"user-agent=Mozilla/5.0 (Windows NT 10.0; Win64; x64) AppleWebKit/537.36 (KHTML, like Gecko) Chrome/91.0.4472.124 Safari/537.36\")\n",
    "#options.add_argument(\"--disable-blink-features=AutomationControlled\")\n",
    "#options.add_experimental_option(\"excludeSwitches\", [\"enable-automation\"])\n",
    "#options.add_experimental_option('useAutomationExtension', False)\n",
    "\n",
    "webdriver.Chrome(options=options)"
   ],
   "metadata": {
    "collapsed": false,
    "ExecuteTime": {
     "end_time": "2024-09-30T20:53:04.444880Z",
     "start_time": "2024-09-30T20:53:02.475183Z"
    }
   },
   "id": "4b08b9174d27b38a",
   "execution_count": 6
  },
  {
   "cell_type": "code",
   "outputs": [],
   "source": [
    "import undetected_chromedriver as uc\n",
    "\n",
    "options = uc.ChromeOptions()\n",
    "options.add_argument(\"user-agent=Mozilla/5.0 (Windows NT 10.0; Win64; x64) AppleWebKit/537.36 (KHTML, like Gecko) Chrome/91.0.4472.124 Safari/537.36\")\n",
    "#options.binary_location = 'C:\\Program Files\\Vivaldi\\Application\\vivaldi.exe'\n",
    "\n",
    "driver = uc.Chrome(options=options)\n",
    "\n",
    "driver.get('https://www.lider.cl')\n",
    "time.sleep(10)\n",
    "driver.quit()"
   ],
   "metadata": {
    "collapsed": false,
    "ExecuteTime": {
     "end_time": "2024-09-30T21:15:00.403749Z",
     "start_time": "2024-09-30T21:14:44.235777Z"
    }
   },
   "id": "ca12e9b2bdfd0177",
   "execution_count": 17
  }
 ],
 "metadata": {
  "kernelspec": {
   "display_name": "Python 3",
   "language": "python",
   "name": "python3"
  },
  "language_info": {
   "codemirror_mode": {
    "name": "ipython",
    "version": 2
   },
   "file_extension": ".py",
   "mimetype": "text/x-python",
   "name": "python",
   "nbconvert_exporter": "python",
   "pygments_lexer": "ipython2",
   "version": "2.7.6"
  }
 },
 "nbformat": 4,
 "nbformat_minor": 5
}
